{
  "nbformat": 4,
  "nbformat_minor": 0,
  "metadata": {
    "colab": {
      "provenance": []
    },
    "kernelspec": {
      "name": "python3",
      "display_name": "Python 3"
    },
    "language_info": {
      "name": "python"
    }
  },
  "cells": [
    {
      "cell_type": "markdown",
      "source": [
        "CHANDRAGIRI NIKHITHA"
      ],
      "metadata": {
        "id": "JCXXKItB1Fny"
      }
    },
    {
      "cell_type": "markdown",
      "source": [
        "BEGINNER LEVEL TASK: TASK 2 Stock Market Prediction And Forecasting Using Stacked LSTM"
      ],
      "metadata": {
        "id": "IPEB-x4V1HNC"
      }
    },
    {
      "cell_type": "code",
      "source": [
        "import pandas as pd\n",
        "import numpy as np\n",
        "import matplotlib.pyplot as plt\n",
        "import seaborn as sns\n",
        "from sklearn.preprocessing import MinMaxScaler\n",
        "from sklearn.model_selection import train_test_split\n",
        "from tensorflow.keras.models import Sequential\n",
        "from tensorflow.keras.layers import Dense\n",
        "from tensorflow.keras.layers import LSTM\n",
        "import math\n",
        "from sklearn.metrics import mean_squared_error, accuracy_score,confusion_matrix,classification_report,f1_score"
      ],
      "metadata": {
        "id": "NWKa2STI18ZU"
      },
      "execution_count": 83,
      "outputs": []
    },
    {
      "cell_type": "code",
      "execution_count": 84,
      "metadata": {
        "colab": {
          "base_uri": "https://localhost:8080/",
          "height": 206
        },
        "id": "JavH7zrDz2YR",
        "outputId": "7010435b-7053-4990-aa01-9ff231dc4a1f"
      },
      "outputs": [
        {
          "output_type": "execute_result",
          "data": {
            "text/plain": [
              "         Date    Open    High     Low    Last   Close  Total Trade Quantity  \\\n",
              "0  28-09-2018  234.05  235.95  230.20  233.50  233.75               3069914   \n",
              "1  27-09-2018  234.55  236.80  231.10  233.80  233.25               5082859   \n",
              "2  26-09-2018  240.00  240.00  232.50  235.00  234.25               2240909   \n",
              "3  25-09-2018  233.30  236.75  232.00  236.25  236.10               2349368   \n",
              "4  24-09-2018  233.55  239.20  230.75  234.00  233.30               3423509   \n",
              "\n",
              "   Turnover (Lacs)  \n",
              "0          7162.35  \n",
              "1         11859.95  \n",
              "2          5248.60  \n",
              "3          5503.90  \n",
              "4          7999.55  "
            ],
            "text/html": [
              "\n",
              "  <div id=\"df-87e8bfdd-4fd8-4b49-b2ae-cd364c5b4d6c\">\n",
              "    <div class=\"colab-df-container\">\n",
              "      <div>\n",
              "<style scoped>\n",
              "    .dataframe tbody tr th:only-of-type {\n",
              "        vertical-align: middle;\n",
              "    }\n",
              "\n",
              "    .dataframe tbody tr th {\n",
              "        vertical-align: top;\n",
              "    }\n",
              "\n",
              "    .dataframe thead th {\n",
              "        text-align: right;\n",
              "    }\n",
              "</style>\n",
              "<table border=\"1\" class=\"dataframe\">\n",
              "  <thead>\n",
              "    <tr style=\"text-align: right;\">\n",
              "      <th></th>\n",
              "      <th>Date</th>\n",
              "      <th>Open</th>\n",
              "      <th>High</th>\n",
              "      <th>Low</th>\n",
              "      <th>Last</th>\n",
              "      <th>Close</th>\n",
              "      <th>Total Trade Quantity</th>\n",
              "      <th>Turnover (Lacs)</th>\n",
              "    </tr>\n",
              "  </thead>\n",
              "  <tbody>\n",
              "    <tr>\n",
              "      <th>0</th>\n",
              "      <td>28-09-2018</td>\n",
              "      <td>234.05</td>\n",
              "      <td>235.95</td>\n",
              "      <td>230.20</td>\n",
              "      <td>233.50</td>\n",
              "      <td>233.75</td>\n",
              "      <td>3069914</td>\n",
              "      <td>7162.35</td>\n",
              "    </tr>\n",
              "    <tr>\n",
              "      <th>1</th>\n",
              "      <td>27-09-2018</td>\n",
              "      <td>234.55</td>\n",
              "      <td>236.80</td>\n",
              "      <td>231.10</td>\n",
              "      <td>233.80</td>\n",
              "      <td>233.25</td>\n",
              "      <td>5082859</td>\n",
              "      <td>11859.95</td>\n",
              "    </tr>\n",
              "    <tr>\n",
              "      <th>2</th>\n",
              "      <td>26-09-2018</td>\n",
              "      <td>240.00</td>\n",
              "      <td>240.00</td>\n",
              "      <td>232.50</td>\n",
              "      <td>235.00</td>\n",
              "      <td>234.25</td>\n",
              "      <td>2240909</td>\n",
              "      <td>5248.60</td>\n",
              "    </tr>\n",
              "    <tr>\n",
              "      <th>3</th>\n",
              "      <td>25-09-2018</td>\n",
              "      <td>233.30</td>\n",
              "      <td>236.75</td>\n",
              "      <td>232.00</td>\n",
              "      <td>236.25</td>\n",
              "      <td>236.10</td>\n",
              "      <td>2349368</td>\n",
              "      <td>5503.90</td>\n",
              "    </tr>\n",
              "    <tr>\n",
              "      <th>4</th>\n",
              "      <td>24-09-2018</td>\n",
              "      <td>233.55</td>\n",
              "      <td>239.20</td>\n",
              "      <td>230.75</td>\n",
              "      <td>234.00</td>\n",
              "      <td>233.30</td>\n",
              "      <td>3423509</td>\n",
              "      <td>7999.55</td>\n",
              "    </tr>\n",
              "  </tbody>\n",
              "</table>\n",
              "</div>\n",
              "      <button class=\"colab-df-convert\" onclick=\"convertToInteractive('df-87e8bfdd-4fd8-4b49-b2ae-cd364c5b4d6c')\"\n",
              "              title=\"Convert this dataframe to an interactive table.\"\n",
              "              style=\"display:none;\">\n",
              "        \n",
              "  <svg xmlns=\"http://www.w3.org/2000/svg\" height=\"24px\"viewBox=\"0 0 24 24\"\n",
              "       width=\"24px\">\n",
              "    <path d=\"M0 0h24v24H0V0z\" fill=\"none\"/>\n",
              "    <path d=\"M18.56 5.44l.94 2.06.94-2.06 2.06-.94-2.06-.94-.94-2.06-.94 2.06-2.06.94zm-11 1L8.5 8.5l.94-2.06 2.06-.94-2.06-.94L8.5 2.5l-.94 2.06-2.06.94zm10 10l.94 2.06.94-2.06 2.06-.94-2.06-.94-.94-2.06-.94 2.06-2.06.94z\"/><path d=\"M17.41 7.96l-1.37-1.37c-.4-.4-.92-.59-1.43-.59-.52 0-1.04.2-1.43.59L10.3 9.45l-7.72 7.72c-.78.78-.78 2.05 0 2.83L4 21.41c.39.39.9.59 1.41.59.51 0 1.02-.2 1.41-.59l7.78-7.78 2.81-2.81c.8-.78.8-2.07 0-2.86zM5.41 20L4 18.59l7.72-7.72 1.47 1.35L5.41 20z\"/>\n",
              "  </svg>\n",
              "      </button>\n",
              "      \n",
              "  <style>\n",
              "    .colab-df-container {\n",
              "      display:flex;\n",
              "      flex-wrap:wrap;\n",
              "      gap: 12px;\n",
              "    }\n",
              "\n",
              "    .colab-df-convert {\n",
              "      background-color: #E8F0FE;\n",
              "      border: none;\n",
              "      border-radius: 50%;\n",
              "      cursor: pointer;\n",
              "      display: none;\n",
              "      fill: #1967D2;\n",
              "      height: 32px;\n",
              "      padding: 0 0 0 0;\n",
              "      width: 32px;\n",
              "    }\n",
              "\n",
              "    .colab-df-convert:hover {\n",
              "      background-color: #E2EBFA;\n",
              "      box-shadow: 0px 1px 2px rgba(60, 64, 67, 0.3), 0px 1px 3px 1px rgba(60, 64, 67, 0.15);\n",
              "      fill: #174EA6;\n",
              "    }\n",
              "\n",
              "    [theme=dark] .colab-df-convert {\n",
              "      background-color: #3B4455;\n",
              "      fill: #D2E3FC;\n",
              "    }\n",
              "\n",
              "    [theme=dark] .colab-df-convert:hover {\n",
              "      background-color: #434B5C;\n",
              "      box-shadow: 0px 1px 3px 1px rgba(0, 0, 0, 0.15);\n",
              "      filter: drop-shadow(0px 1px 2px rgba(0, 0, 0, 0.3));\n",
              "      fill: #FFFFFF;\n",
              "    }\n",
              "  </style>\n",
              "\n",
              "      <script>\n",
              "        const buttonEl =\n",
              "          document.querySelector('#df-87e8bfdd-4fd8-4b49-b2ae-cd364c5b4d6c button.colab-df-convert');\n",
              "        buttonEl.style.display =\n",
              "          google.colab.kernel.accessAllowed ? 'block' : 'none';\n",
              "\n",
              "        async function convertToInteractive(key) {\n",
              "          const element = document.querySelector('#df-87e8bfdd-4fd8-4b49-b2ae-cd364c5b4d6c');\n",
              "          const dataTable =\n",
              "            await google.colab.kernel.invokeFunction('convertToInteractive',\n",
              "                                                     [key], {});\n",
              "          if (!dataTable) return;\n",
              "\n",
              "          const docLinkHtml = 'Like what you see? Visit the ' +\n",
              "            '<a target=\"_blank\" href=https://colab.research.google.com/notebooks/data_table.ipynb>data table notebook</a>'\n",
              "            + ' to learn more about interactive tables.';\n",
              "          element.innerHTML = '';\n",
              "          dataTable['output_type'] = 'display_data';\n",
              "          await google.colab.output.renderOutput(dataTable, element);\n",
              "          const docLink = document.createElement('div');\n",
              "          docLink.innerHTML = docLinkHtml;\n",
              "          element.appendChild(docLink);\n",
              "        }\n",
              "      </script>\n",
              "    </div>\n",
              "  </div>\n",
              "  "
            ]
          },
          "metadata": {},
          "execution_count": 84
        }
      ],
      "source": [
        "# Load the data\n",
        "df = pd.read_csv('stockprice.csv')\n",
        "df.head()"
      ]
    },
    {
      "cell_type": "code",
      "source": [
        "#Analyze and visualize the dataset\n",
        "df.describe()"
      ],
      "metadata": {
        "colab": {
          "base_uri": "https://localhost:8080/",
          "height": 300
        },
        "id": "1OBSFpe62VIP",
        "outputId": "7dfb50d9-afc7-448c-ac0f-41006b27c4f0"
      },
      "execution_count": 85,
      "outputs": [
        {
          "output_type": "execute_result",
          "data": {
            "text/plain": [
              "              Open         High          Low         Last       Close  \\\n",
              "count  2035.000000  2035.000000  2035.000000  2035.000000  2035.00000   \n",
              "mean    149.713735   151.992826   147.293931   149.474251   149.45027   \n",
              "std      48.664509    49.413109    47.931958    48.732570    48.71204   \n",
              "min      81.100000    82.800000    80.000000    81.000000    80.95000   \n",
              "25%     120.025000   122.100000   118.300000   120.075000   120.05000   \n",
              "50%     141.500000   143.400000   139.600000   141.100000   141.25000   \n",
              "75%     157.175000   159.400000   155.150000   156.925000   156.90000   \n",
              "max     327.700000   328.750000   321.650000   325.950000   325.75000   \n",
              "\n",
              "       Total Trade Quantity  Turnover (Lacs)  \n",
              "count          2.035000e+03      2035.000000  \n",
              "mean           2.335681e+06      3899.980565  \n",
              "std            2.091778e+06      4570.767877  \n",
              "min            3.961000e+04        37.040000  \n",
              "25%            1.146444e+06      1427.460000  \n",
              "50%            1.783456e+06      2512.030000  \n",
              "75%            2.813594e+06      4539.015000  \n",
              "max            2.919102e+07     55755.080000  "
            ],
            "text/html": [
              "\n",
              "  <div id=\"df-83baa46b-47aa-473a-9a1b-c3c2b56decb3\">\n",
              "    <div class=\"colab-df-container\">\n",
              "      <div>\n",
              "<style scoped>\n",
              "    .dataframe tbody tr th:only-of-type {\n",
              "        vertical-align: middle;\n",
              "    }\n",
              "\n",
              "    .dataframe tbody tr th {\n",
              "        vertical-align: top;\n",
              "    }\n",
              "\n",
              "    .dataframe thead th {\n",
              "        text-align: right;\n",
              "    }\n",
              "</style>\n",
              "<table border=\"1\" class=\"dataframe\">\n",
              "  <thead>\n",
              "    <tr style=\"text-align: right;\">\n",
              "      <th></th>\n",
              "      <th>Open</th>\n",
              "      <th>High</th>\n",
              "      <th>Low</th>\n",
              "      <th>Last</th>\n",
              "      <th>Close</th>\n",
              "      <th>Total Trade Quantity</th>\n",
              "      <th>Turnover (Lacs)</th>\n",
              "    </tr>\n",
              "  </thead>\n",
              "  <tbody>\n",
              "    <tr>\n",
              "      <th>count</th>\n",
              "      <td>2035.000000</td>\n",
              "      <td>2035.000000</td>\n",
              "      <td>2035.000000</td>\n",
              "      <td>2035.000000</td>\n",
              "      <td>2035.00000</td>\n",
              "      <td>2.035000e+03</td>\n",
              "      <td>2035.000000</td>\n",
              "    </tr>\n",
              "    <tr>\n",
              "      <th>mean</th>\n",
              "      <td>149.713735</td>\n",
              "      <td>151.992826</td>\n",
              "      <td>147.293931</td>\n",
              "      <td>149.474251</td>\n",
              "      <td>149.45027</td>\n",
              "      <td>2.335681e+06</td>\n",
              "      <td>3899.980565</td>\n",
              "    </tr>\n",
              "    <tr>\n",
              "      <th>std</th>\n",
              "      <td>48.664509</td>\n",
              "      <td>49.413109</td>\n",
              "      <td>47.931958</td>\n",
              "      <td>48.732570</td>\n",
              "      <td>48.71204</td>\n",
              "      <td>2.091778e+06</td>\n",
              "      <td>4570.767877</td>\n",
              "    </tr>\n",
              "    <tr>\n",
              "      <th>min</th>\n",
              "      <td>81.100000</td>\n",
              "      <td>82.800000</td>\n",
              "      <td>80.000000</td>\n",
              "      <td>81.000000</td>\n",
              "      <td>80.95000</td>\n",
              "      <td>3.961000e+04</td>\n",
              "      <td>37.040000</td>\n",
              "    </tr>\n",
              "    <tr>\n",
              "      <th>25%</th>\n",
              "      <td>120.025000</td>\n",
              "      <td>122.100000</td>\n",
              "      <td>118.300000</td>\n",
              "      <td>120.075000</td>\n",
              "      <td>120.05000</td>\n",
              "      <td>1.146444e+06</td>\n",
              "      <td>1427.460000</td>\n",
              "    </tr>\n",
              "    <tr>\n",
              "      <th>50%</th>\n",
              "      <td>141.500000</td>\n",
              "      <td>143.400000</td>\n",
              "      <td>139.600000</td>\n",
              "      <td>141.100000</td>\n",
              "      <td>141.25000</td>\n",
              "      <td>1.783456e+06</td>\n",
              "      <td>2512.030000</td>\n",
              "    </tr>\n",
              "    <tr>\n",
              "      <th>75%</th>\n",
              "      <td>157.175000</td>\n",
              "      <td>159.400000</td>\n",
              "      <td>155.150000</td>\n",
              "      <td>156.925000</td>\n",
              "      <td>156.90000</td>\n",
              "      <td>2.813594e+06</td>\n",
              "      <td>4539.015000</td>\n",
              "    </tr>\n",
              "    <tr>\n",
              "      <th>max</th>\n",
              "      <td>327.700000</td>\n",
              "      <td>328.750000</td>\n",
              "      <td>321.650000</td>\n",
              "      <td>325.950000</td>\n",
              "      <td>325.75000</td>\n",
              "      <td>2.919102e+07</td>\n",
              "      <td>55755.080000</td>\n",
              "    </tr>\n",
              "  </tbody>\n",
              "</table>\n",
              "</div>\n",
              "      <button class=\"colab-df-convert\" onclick=\"convertToInteractive('df-83baa46b-47aa-473a-9a1b-c3c2b56decb3')\"\n",
              "              title=\"Convert this dataframe to an interactive table.\"\n",
              "              style=\"display:none;\">\n",
              "        \n",
              "  <svg xmlns=\"http://www.w3.org/2000/svg\" height=\"24px\"viewBox=\"0 0 24 24\"\n",
              "       width=\"24px\">\n",
              "    <path d=\"M0 0h24v24H0V0z\" fill=\"none\"/>\n",
              "    <path d=\"M18.56 5.44l.94 2.06.94-2.06 2.06-.94-2.06-.94-.94-2.06-.94 2.06-2.06.94zm-11 1L8.5 8.5l.94-2.06 2.06-.94-2.06-.94L8.5 2.5l-.94 2.06-2.06.94zm10 10l.94 2.06.94-2.06 2.06-.94-2.06-.94-.94-2.06-.94 2.06-2.06.94z\"/><path d=\"M17.41 7.96l-1.37-1.37c-.4-.4-.92-.59-1.43-.59-.52 0-1.04.2-1.43.59L10.3 9.45l-7.72 7.72c-.78.78-.78 2.05 0 2.83L4 21.41c.39.39.9.59 1.41.59.51 0 1.02-.2 1.41-.59l7.78-7.78 2.81-2.81c.8-.78.8-2.07 0-2.86zM5.41 20L4 18.59l7.72-7.72 1.47 1.35L5.41 20z\"/>\n",
              "  </svg>\n",
              "      </button>\n",
              "      \n",
              "  <style>\n",
              "    .colab-df-container {\n",
              "      display:flex;\n",
              "      flex-wrap:wrap;\n",
              "      gap: 12px;\n",
              "    }\n",
              "\n",
              "    .colab-df-convert {\n",
              "      background-color: #E8F0FE;\n",
              "      border: none;\n",
              "      border-radius: 50%;\n",
              "      cursor: pointer;\n",
              "      display: none;\n",
              "      fill: #1967D2;\n",
              "      height: 32px;\n",
              "      padding: 0 0 0 0;\n",
              "      width: 32px;\n",
              "    }\n",
              "\n",
              "    .colab-df-convert:hover {\n",
              "      background-color: #E2EBFA;\n",
              "      box-shadow: 0px 1px 2px rgba(60, 64, 67, 0.3), 0px 1px 3px 1px rgba(60, 64, 67, 0.15);\n",
              "      fill: #174EA6;\n",
              "    }\n",
              "\n",
              "    [theme=dark] .colab-df-convert {\n",
              "      background-color: #3B4455;\n",
              "      fill: #D2E3FC;\n",
              "    }\n",
              "\n",
              "    [theme=dark] .colab-df-convert:hover {\n",
              "      background-color: #434B5C;\n",
              "      box-shadow: 0px 1px 3px 1px rgba(0, 0, 0, 0.15);\n",
              "      filter: drop-shadow(0px 1px 2px rgba(0, 0, 0, 0.3));\n",
              "      fill: #FFFFFF;\n",
              "    }\n",
              "  </style>\n",
              "\n",
              "      <script>\n",
              "        const buttonEl =\n",
              "          document.querySelector('#df-83baa46b-47aa-473a-9a1b-c3c2b56decb3 button.colab-df-convert');\n",
              "        buttonEl.style.display =\n",
              "          google.colab.kernel.accessAllowed ? 'block' : 'none';\n",
              "\n",
              "        async function convertToInteractive(key) {\n",
              "          const element = document.querySelector('#df-83baa46b-47aa-473a-9a1b-c3c2b56decb3');\n",
              "          const dataTable =\n",
              "            await google.colab.kernel.invokeFunction('convertToInteractive',\n",
              "                                                     [key], {});\n",
              "          if (!dataTable) return;\n",
              "\n",
              "          const docLinkHtml = 'Like what you see? Visit the ' +\n",
              "            '<a target=\"_blank\" href=https://colab.research.google.com/notebooks/data_table.ipynb>data table notebook</a>'\n",
              "            + ' to learn more about interactive tables.';\n",
              "          element.innerHTML = '';\n",
              "          dataTable['output_type'] = 'display_data';\n",
              "          await google.colab.output.renderOutput(dataTable, element);\n",
              "          const docLink = document.createElement('div');\n",
              "          docLink.innerHTML = docLinkHtml;\n",
              "          element.appendChild(docLink);\n",
              "        }\n",
              "      </script>\n",
              "    </div>\n",
              "  </div>\n",
              "  "
            ]
          },
          "metadata": {},
          "execution_count": 85
        }
      ]
    },
    {
      "cell_type": "code",
      "source": [
        "df.describe(include='all')"
      ],
      "metadata": {
        "colab": {
          "base_uri": "https://localhost:8080/",
          "height": 394
        },
        "id": "qN1lM0iq2VLC",
        "outputId": "c2ae9a0e-9f91-409f-e8c4-76113f266a11"
      },
      "execution_count": 86,
      "outputs": [
        {
          "output_type": "execute_result",
          "data": {
            "text/plain": [
              "              Date         Open         High          Low         Last  \\\n",
              "count         2035  2035.000000  2035.000000  2035.000000  2035.000000   \n",
              "unique        2035          NaN          NaN          NaN          NaN   \n",
              "top     28-09-2018          NaN          NaN          NaN          NaN   \n",
              "freq             1          NaN          NaN          NaN          NaN   \n",
              "mean           NaN   149.713735   151.992826   147.293931   149.474251   \n",
              "std            NaN    48.664509    49.413109    47.931958    48.732570   \n",
              "min            NaN    81.100000    82.800000    80.000000    81.000000   \n",
              "25%            NaN   120.025000   122.100000   118.300000   120.075000   \n",
              "50%            NaN   141.500000   143.400000   139.600000   141.100000   \n",
              "75%            NaN   157.175000   159.400000   155.150000   156.925000   \n",
              "max            NaN   327.700000   328.750000   321.650000   325.950000   \n",
              "\n",
              "             Close  Total Trade Quantity  Turnover (Lacs)  \n",
              "count   2035.00000          2.035000e+03      2035.000000  \n",
              "unique         NaN                   NaN              NaN  \n",
              "top            NaN                   NaN              NaN  \n",
              "freq           NaN                   NaN              NaN  \n",
              "mean     149.45027          2.335681e+06      3899.980565  \n",
              "std       48.71204          2.091778e+06      4570.767877  \n",
              "min       80.95000          3.961000e+04        37.040000  \n",
              "25%      120.05000          1.146444e+06      1427.460000  \n",
              "50%      141.25000          1.783456e+06      2512.030000  \n",
              "75%      156.90000          2.813594e+06      4539.015000  \n",
              "max      325.75000          2.919102e+07     55755.080000  "
            ],
            "text/html": [
              "\n",
              "  <div id=\"df-b1fbcbd0-42ee-4861-9747-182c3547e543\">\n",
              "    <div class=\"colab-df-container\">\n",
              "      <div>\n",
              "<style scoped>\n",
              "    .dataframe tbody tr th:only-of-type {\n",
              "        vertical-align: middle;\n",
              "    }\n",
              "\n",
              "    .dataframe tbody tr th {\n",
              "        vertical-align: top;\n",
              "    }\n",
              "\n",
              "    .dataframe thead th {\n",
              "        text-align: right;\n",
              "    }\n",
              "</style>\n",
              "<table border=\"1\" class=\"dataframe\">\n",
              "  <thead>\n",
              "    <tr style=\"text-align: right;\">\n",
              "      <th></th>\n",
              "      <th>Date</th>\n",
              "      <th>Open</th>\n",
              "      <th>High</th>\n",
              "      <th>Low</th>\n",
              "      <th>Last</th>\n",
              "      <th>Close</th>\n",
              "      <th>Total Trade Quantity</th>\n",
              "      <th>Turnover (Lacs)</th>\n",
              "    </tr>\n",
              "  </thead>\n",
              "  <tbody>\n",
              "    <tr>\n",
              "      <th>count</th>\n",
              "      <td>2035</td>\n",
              "      <td>2035.000000</td>\n",
              "      <td>2035.000000</td>\n",
              "      <td>2035.000000</td>\n",
              "      <td>2035.000000</td>\n",
              "      <td>2035.00000</td>\n",
              "      <td>2.035000e+03</td>\n",
              "      <td>2035.000000</td>\n",
              "    </tr>\n",
              "    <tr>\n",
              "      <th>unique</th>\n",
              "      <td>2035</td>\n",
              "      <td>NaN</td>\n",
              "      <td>NaN</td>\n",
              "      <td>NaN</td>\n",
              "      <td>NaN</td>\n",
              "      <td>NaN</td>\n",
              "      <td>NaN</td>\n",
              "      <td>NaN</td>\n",
              "    </tr>\n",
              "    <tr>\n",
              "      <th>top</th>\n",
              "      <td>28-09-2018</td>\n",
              "      <td>NaN</td>\n",
              "      <td>NaN</td>\n",
              "      <td>NaN</td>\n",
              "      <td>NaN</td>\n",
              "      <td>NaN</td>\n",
              "      <td>NaN</td>\n",
              "      <td>NaN</td>\n",
              "    </tr>\n",
              "    <tr>\n",
              "      <th>freq</th>\n",
              "      <td>1</td>\n",
              "      <td>NaN</td>\n",
              "      <td>NaN</td>\n",
              "      <td>NaN</td>\n",
              "      <td>NaN</td>\n",
              "      <td>NaN</td>\n",
              "      <td>NaN</td>\n",
              "      <td>NaN</td>\n",
              "    </tr>\n",
              "    <tr>\n",
              "      <th>mean</th>\n",
              "      <td>NaN</td>\n",
              "      <td>149.713735</td>\n",
              "      <td>151.992826</td>\n",
              "      <td>147.293931</td>\n",
              "      <td>149.474251</td>\n",
              "      <td>149.45027</td>\n",
              "      <td>2.335681e+06</td>\n",
              "      <td>3899.980565</td>\n",
              "    </tr>\n",
              "    <tr>\n",
              "      <th>std</th>\n",
              "      <td>NaN</td>\n",
              "      <td>48.664509</td>\n",
              "      <td>49.413109</td>\n",
              "      <td>47.931958</td>\n",
              "      <td>48.732570</td>\n",
              "      <td>48.71204</td>\n",
              "      <td>2.091778e+06</td>\n",
              "      <td>4570.767877</td>\n",
              "    </tr>\n",
              "    <tr>\n",
              "      <th>min</th>\n",
              "      <td>NaN</td>\n",
              "      <td>81.100000</td>\n",
              "      <td>82.800000</td>\n",
              "      <td>80.000000</td>\n",
              "      <td>81.000000</td>\n",
              "      <td>80.95000</td>\n",
              "      <td>3.961000e+04</td>\n",
              "      <td>37.040000</td>\n",
              "    </tr>\n",
              "    <tr>\n",
              "      <th>25%</th>\n",
              "      <td>NaN</td>\n",
              "      <td>120.025000</td>\n",
              "      <td>122.100000</td>\n",
              "      <td>118.300000</td>\n",
              "      <td>120.075000</td>\n",
              "      <td>120.05000</td>\n",
              "      <td>1.146444e+06</td>\n",
              "      <td>1427.460000</td>\n",
              "    </tr>\n",
              "    <tr>\n",
              "      <th>50%</th>\n",
              "      <td>NaN</td>\n",
              "      <td>141.500000</td>\n",
              "      <td>143.400000</td>\n",
              "      <td>139.600000</td>\n",
              "      <td>141.100000</td>\n",
              "      <td>141.25000</td>\n",
              "      <td>1.783456e+06</td>\n",
              "      <td>2512.030000</td>\n",
              "    </tr>\n",
              "    <tr>\n",
              "      <th>75%</th>\n",
              "      <td>NaN</td>\n",
              "      <td>157.175000</td>\n",
              "      <td>159.400000</td>\n",
              "      <td>155.150000</td>\n",
              "      <td>156.925000</td>\n",
              "      <td>156.90000</td>\n",
              "      <td>2.813594e+06</td>\n",
              "      <td>4539.015000</td>\n",
              "    </tr>\n",
              "    <tr>\n",
              "      <th>max</th>\n",
              "      <td>NaN</td>\n",
              "      <td>327.700000</td>\n",
              "      <td>328.750000</td>\n",
              "      <td>321.650000</td>\n",
              "      <td>325.950000</td>\n",
              "      <td>325.75000</td>\n",
              "      <td>2.919102e+07</td>\n",
              "      <td>55755.080000</td>\n",
              "    </tr>\n",
              "  </tbody>\n",
              "</table>\n",
              "</div>\n",
              "      <button class=\"colab-df-convert\" onclick=\"convertToInteractive('df-b1fbcbd0-42ee-4861-9747-182c3547e543')\"\n",
              "              title=\"Convert this dataframe to an interactive table.\"\n",
              "              style=\"display:none;\">\n",
              "        \n",
              "  <svg xmlns=\"http://www.w3.org/2000/svg\" height=\"24px\"viewBox=\"0 0 24 24\"\n",
              "       width=\"24px\">\n",
              "    <path d=\"M0 0h24v24H0V0z\" fill=\"none\"/>\n",
              "    <path d=\"M18.56 5.44l.94 2.06.94-2.06 2.06-.94-2.06-.94-.94-2.06-.94 2.06-2.06.94zm-11 1L8.5 8.5l.94-2.06 2.06-.94-2.06-.94L8.5 2.5l-.94 2.06-2.06.94zm10 10l.94 2.06.94-2.06 2.06-.94-2.06-.94-.94-2.06-.94 2.06-2.06.94z\"/><path d=\"M17.41 7.96l-1.37-1.37c-.4-.4-.92-.59-1.43-.59-.52 0-1.04.2-1.43.59L10.3 9.45l-7.72 7.72c-.78.78-.78 2.05 0 2.83L4 21.41c.39.39.9.59 1.41.59.51 0 1.02-.2 1.41-.59l7.78-7.78 2.81-2.81c.8-.78.8-2.07 0-2.86zM5.41 20L4 18.59l7.72-7.72 1.47 1.35L5.41 20z\"/>\n",
              "  </svg>\n",
              "      </button>\n",
              "      \n",
              "  <style>\n",
              "    .colab-df-container {\n",
              "      display:flex;\n",
              "      flex-wrap:wrap;\n",
              "      gap: 12px;\n",
              "    }\n",
              "\n",
              "    .colab-df-convert {\n",
              "      background-color: #E8F0FE;\n",
              "      border: none;\n",
              "      border-radius: 50%;\n",
              "      cursor: pointer;\n",
              "      display: none;\n",
              "      fill: #1967D2;\n",
              "      height: 32px;\n",
              "      padding: 0 0 0 0;\n",
              "      width: 32px;\n",
              "    }\n",
              "\n",
              "    .colab-df-convert:hover {\n",
              "      background-color: #E2EBFA;\n",
              "      box-shadow: 0px 1px 2px rgba(60, 64, 67, 0.3), 0px 1px 3px 1px rgba(60, 64, 67, 0.15);\n",
              "      fill: #174EA6;\n",
              "    }\n",
              "\n",
              "    [theme=dark] .colab-df-convert {\n",
              "      background-color: #3B4455;\n",
              "      fill: #D2E3FC;\n",
              "    }\n",
              "\n",
              "    [theme=dark] .colab-df-convert:hover {\n",
              "      background-color: #434B5C;\n",
              "      box-shadow: 0px 1px 3px 1px rgba(0, 0, 0, 0.15);\n",
              "      filter: drop-shadow(0px 1px 2px rgba(0, 0, 0, 0.3));\n",
              "      fill: #FFFFFF;\n",
              "    }\n",
              "  </style>\n",
              "\n",
              "      <script>\n",
              "        const buttonEl =\n",
              "          document.querySelector('#df-b1fbcbd0-42ee-4861-9747-182c3547e543 button.colab-df-convert');\n",
              "        buttonEl.style.display =\n",
              "          google.colab.kernel.accessAllowed ? 'block' : 'none';\n",
              "\n",
              "        async function convertToInteractive(key) {\n",
              "          const element = document.querySelector('#df-b1fbcbd0-42ee-4861-9747-182c3547e543');\n",
              "          const dataTable =\n",
              "            await google.colab.kernel.invokeFunction('convertToInteractive',\n",
              "                                                     [key], {});\n",
              "          if (!dataTable) return;\n",
              "\n",
              "          const docLinkHtml = 'Like what you see? Visit the ' +\n",
              "            '<a target=\"_blank\" href=https://colab.research.google.com/notebooks/data_table.ipynb>data table notebook</a>'\n",
              "            + ' to learn more about interactive tables.';\n",
              "          element.innerHTML = '';\n",
              "          dataTable['output_type'] = 'display_data';\n",
              "          await google.colab.output.renderOutput(dataTable, element);\n",
              "          const docLink = document.createElement('div');\n",
              "          docLink.innerHTML = docLinkHtml;\n",
              "          element.appendChild(docLink);\n",
              "        }\n",
              "      </script>\n",
              "    </div>\n",
              "  </div>\n",
              "  "
            ]
          },
          "metadata": {},
          "execution_count": 86
        }
      ]
    },
    {
      "cell_type": "code",
      "source": [
        "df.info()"
      ],
      "metadata": {
        "colab": {
          "base_uri": "https://localhost:8080/"
        },
        "id": "s_IBekfl2VM_",
        "outputId": "b25590b9-f936-48fb-d89d-e2266952bbae"
      },
      "execution_count": 87,
      "outputs": [
        {
          "output_type": "stream",
          "name": "stdout",
          "text": [
            "<class 'pandas.core.frame.DataFrame'>\n",
            "RangeIndex: 2035 entries, 0 to 2034\n",
            "Data columns (total 8 columns):\n",
            " #   Column                Non-Null Count  Dtype  \n",
            "---  ------                --------------  -----  \n",
            " 0   Date                  2035 non-null   object \n",
            " 1   Open                  2035 non-null   float64\n",
            " 2   High                  2035 non-null   float64\n",
            " 3   Low                   2035 non-null   float64\n",
            " 4   Last                  2035 non-null   float64\n",
            " 5   Close                 2035 non-null   float64\n",
            " 6   Total Trade Quantity  2035 non-null   int64  \n",
            " 7   Turnover (Lacs)       2035 non-null   float64\n",
            "dtypes: float64(6), int64(1), object(1)\n",
            "memory usage: 127.3+ KB\n"
          ]
        }
      ]
    },
    {
      "cell_type": "code",
      "source": [
        "df.shape"
      ],
      "metadata": {
        "colab": {
          "base_uri": "https://localhost:8080/"
        },
        "id": "qR7PrN4q_zc_",
        "outputId": "c66536b8-2cde-43d4-c151-1b21d860209f"
      },
      "execution_count": 88,
      "outputs": [
        {
          "output_type": "execute_result",
          "data": {
            "text/plain": [
              "(2035, 8)"
            ]
          },
          "metadata": {},
          "execution_count": 88
        }
      ]
    },
    {
      "cell_type": "code",
      "source": [
        "#checking for null values\n",
        "df.isnull().sum()"
      ],
      "metadata": {
        "colab": {
          "base_uri": "https://localhost:8080/"
        },
        "id": "uSqD1O7-2VPl",
        "outputId": "36a5f6ea-fe37-4486-a995-e070807ac62c"
      },
      "execution_count": 89,
      "outputs": [
        {
          "output_type": "execute_result",
          "data": {
            "text/plain": [
              "Date                    0\n",
              "Open                    0\n",
              "High                    0\n",
              "Low                     0\n",
              "Last                    0\n",
              "Close                   0\n",
              "Total Trade Quantity    0\n",
              "Turnover (Lacs)         0\n",
              "dtype: int64"
            ]
          },
          "metadata": {},
          "execution_count": 89
        }
      ]
    },
    {
      "cell_type": "code",
      "source": [
        "#checking for duplicates\n",
        "duplicates= df.duplicated()\n",
        "duplicates.value_counts()"
      ],
      "metadata": {
        "colab": {
          "base_uri": "https://localhost:8080/"
        },
        "id": "WZTc4qzfGgBl",
        "outputId": "18732dc7-d99d-4e32-d240-332949fbb35a"
      },
      "execution_count": 90,
      "outputs": [
        {
          "output_type": "execute_result",
          "data": {
            "text/plain": [
              "False    2035\n",
              "dtype: int64"
            ]
          },
          "metadata": {},
          "execution_count": 90
        }
      ]
    },
    {
      "cell_type": "code",
      "source": [
        "df.columns"
      ],
      "metadata": {
        "colab": {
          "base_uri": "https://localhost:8080/"
        },
        "id": "se1FM5m82VSH",
        "outputId": "1e39ec5c-752b-4151-8248-06b1dcbcc3a0"
      },
      "execution_count": 91,
      "outputs": [
        {
          "output_type": "execute_result",
          "data": {
            "text/plain": [
              "Index(['Date', 'Open', 'High', 'Low', 'Last', 'Close', 'Total Trade Quantity',\n",
              "       'Turnover (Lacs)'],\n",
              "      dtype='object')"
            ]
          },
          "metadata": {},
          "execution_count": 91
        }
      ]
    },
    {
      "cell_type": "code",
      "source": [
        "plt.figure(figsize=(6,6))\n",
        "sns.heatmap(df.corr(), annot=True)"
      ],
      "metadata": {
        "colab": {
          "base_uri": "https://localhost:8080/",
          "height": 725
        },
        "id": "fbfNYgIu2VUb",
        "outputId": "3d06dd4e-c11a-41ed-e7d1-5be3a443e0e7"
      },
      "execution_count": 92,
      "outputs": [
        {
          "output_type": "stream",
          "name": "stderr",
          "text": [
            "<ipython-input-92-40557f091158>:2: FutureWarning: The default value of numeric_only in DataFrame.corr is deprecated. In a future version, it will default to False. Select only valid columns or specify the value of numeric_only to silence this warning.\n",
            "  sns.heatmap(df.corr(), annot=True)\n"
          ]
        },
        {
          "output_type": "execute_result",
          "data": {
            "text/plain": [
              "<Axes: >"
            ]
          },
          "metadata": {},
          "execution_count": 92
        },
        {
          "output_type": "display_data",
          "data": {
            "text/plain": [
              "<Figure size 600x600 with 2 Axes>"
            ],
            "image/png": "[encoded data removed]"
          },
          "metadata": {}
        }
      ]
    },
    {
      "cell_type": "code",
      "source": [
        "df.plot(x=\"Date\", y=\"Close\")"
      ],
      "metadata": {
        "colab": {
          "base_uri": "https://localhost:8080/",
          "height": 466
        },
        "id": "aXHuVGzm2VW5",
        "outputId": "c9554996-3604-4b96-8ef6-9c1016cbf105"
      },
      "execution_count": 93,
      "outputs": [
        {
          "output_type": "execute_result",
          "data": {
            "text/plain": [
              "<Axes: xlabel='Date'>"
            ]
          },
          "metadata": {},
          "execution_count": 93
        },
        {
          "output_type": "display_data",
          "data": {
            "text/plain": [
              "<Figure size 640x480 with 1 Axes>"
            ],
            "image/png": "[encoded data removed]"
          },
          "metadata": {}
        }
      ]
    },
    {
      "cell_type": "code",
      "source": [
        "df_new=df.reset_index()['Close']"
      ],
      "metadata": {
        "id": "R3WQrGi0B7Wa"
      },
      "execution_count": 94,
      "outputs": []
    },
    {
      "cell_type": "code",
      "source": [
        "df_new"
      ],
      "metadata": {
        "colab": {
          "base_uri": "https://localhost:8080/"
        },
        "id": "2V8Msk56B7Y8",
        "outputId": "a91869ca-3adc-4544-d9bb-171954c63b3d"
      },
      "execution_count": 95,
      "outputs": [
        {
          "output_type": "execute_result",
          "data": {
            "text/plain": [
              "0       233.75\n",
              "1       233.25\n",
              "2       234.25\n",
              "3       236.10\n",
              "4       233.30\n",
              "         ...  \n",
              "2030    118.65\n",
              "2031    117.60\n",
              "2032    120.65\n",
              "2033    120.90\n",
              "2034    121.55\n",
              "Name: Close, Length: 2035, dtype: float64"
            ]
          },
          "metadata": {},
          "execution_count": 95
        }
      ]
    },
    {
      "cell_type": "code",
      "source": [
        "scaler = MinMaxScaler(feature_range = (0,1))\n",
        "df_new = scaler.fit_transform(np.array(df_new).reshape(-1,1))\n",
        "df_new"
      ],
      "metadata": {
        "id": "aulO_4aG2VZZ",
        "colab": {
          "base_uri": "https://localhost:8080/"
        },
        "outputId": "1f2f1cfd-d8e3-42c7-906c-f5d47e4f9777"
      },
      "execution_count": 96,
      "outputs": [
        {
          "output_type": "execute_result",
          "data": {
            "text/plain": [
              "array([[0.62418301],\n",
              "       [0.62214052],\n",
              "       [0.62622549],\n",
              "       ...,\n",
              "       [0.1621732 ],\n",
              "       [0.16319444],\n",
              "       [0.16584967]])"
            ]
          },
          "metadata": {},
          "execution_count": 96
        }
      ]
    },
    {
      "cell_type": "code",
      "source": [
        "#Splitting the data into train and test split\n",
        "train_data,test_data= train_test_split(df_new,test_size=0.3)"
      ],
      "metadata": {
        "id": "QurK8qFv2VhM"
      },
      "execution_count": 97,
      "outputs": []
    },
    {
      "cell_type": "code",
      "source": [
        "train_data.shape"
      ],
      "metadata": {
        "id": "pcS2vbiR2Vj1",
        "colab": {
          "base_uri": "https://localhost:8080/"
        },
        "outputId": "b1a0a6bc-6191-4b62-e51e-84a75c73cfb5"
      },
      "execution_count": 98,
      "outputs": [
        {
          "output_type": "execute_result",
          "data": {
            "text/plain": [
              "(1424, 1)"
            ]
          },
          "metadata": {},
          "execution_count": 98
        }
      ]
    },
    {
      "cell_type": "code",
      "source": [
        "#splitting the data into target and features \n",
        "def create_dataset(dataset, time_step=1):\n",
        "    dataX, dataY = [], []\n",
        "    for i in range(len(dataset)-time_step-1):\n",
        "        a = dataset[i:(i+time_step), 0]  \n",
        "        dataX.append(a)\n",
        "        dataY.append(dataset[i + time_step, 0])\n",
        "    return np.array(dataX), np.array(dataY)"
      ],
      "metadata": {
        "id": "eGzaxfe_2Vmb"
      },
      "execution_count": 99,
      "outputs": []
    },
    {
      "cell_type": "code",
      "source": [
        "size=100\n",
        "x_train,y_train=create_dataset(train_data,size)\n",
        "x_test,y_test=create_dataset(train_data,size)"
      ],
      "metadata": {
        "id": "o2l_Ae1V2VpB"
      },
      "execution_count": 100,
      "outputs": []
    },
    {
      "cell_type": "code",
      "source": [
        "x_train.shape,y_train.shape,x_test.shape,y_test.shape"
      ],
      "metadata": {
        "id": "URmlOQhj2VrW",
        "colab": {
          "base_uri": "https://localhost:8080/"
        },
        "outputId": "7d0311eb-d216-48a3-e979-48b994588994"
      },
      "execution_count": 101,
      "outputs": [
        {
          "output_type": "execute_result",
          "data": {
            "text/plain": [
              "((1323, 100), (1323,), (1323, 100), (1323,))"
            ]
          },
          "metadata": {},
          "execution_count": 101
        }
      ]
    },
    {
      "cell_type": "code",
      "source": [
        "#reshaping input \n",
        "x_train=x_train.reshape(x_train.shape[0],x_train.shape[1],1)\n",
        "x_test=x_test.reshape(x_test.shape[0],x_test.shape[1],1)"
      ],
      "metadata": {
        "id": "JrFCbyjsFFXZ"
      },
      "execution_count": 102,
      "outputs": []
    },
    {
      "cell_type": "code",
      "source": [
        "x_train.shape,y_train.shape,x_test.shape,y_test.shape"
      ],
      "metadata": {
        "id": "PZioXtzy2Vuv",
        "colab": {
          "base_uri": "https://localhost:8080/"
        },
        "outputId": "14b88d03-4c18-4486-ac24-187b7a9abb8f"
      },
      "execution_count": 103,
      "outputs": [
        {
          "output_type": "execute_result",
          "data": {
            "text/plain": [
              "((1323, 100, 1), (1323,), (1323, 100, 1), (1323,))"
            ]
          },
          "metadata": {},
          "execution_count": 103
        }
      ]
    },
    {
      "cell_type": "code",
      "source": [
        "# Create the Stacked LSTM model\n",
        "model = Sequential()\n",
        "model.add(LSTM(50, return_sequences = True, input_shape = (100,1)))\n",
        "model.add(LSTM(50, return_sequences = True))\n",
        "model.add(LSTM(50))\n",
        "model.add(Dense(1))\n",
        "model.compile(loss = 'mean_squared_error', optimizer = 'adam')"
      ],
      "metadata": {
        "id": "y3DpRj8PFgry"
      },
      "execution_count": 104,
      "outputs": []
    },
    {
      "cell_type": "code",
      "source": [
        "model.summary()"
      ],
      "metadata": {
        "colab": {
          "base_uri": "https://localhost:8080/"
        },
        "id": "Lvo1g69rFguP",
        "outputId": "1a00d86e-a8e9-491d-b62d-da1228f37c72"
      },
      "execution_count": 105,
      "outputs": [
        {
          "output_type": "stream",
          "name": "stdout",
          "text": [
            "Model: \"sequential_1\"\n",
            "_________________________________________________________________\n",
            " Layer (type)                Output Shape              Param #   \n",
            "=================================================================\n",
            " lstm_3 (LSTM)               (None, 100, 50)           10400     \n",
            "                                                                 \n",
            " lstm_4 (LSTM)               (None, 100, 50)           20200     \n",
            "                                                                 \n",
            " lstm_5 (LSTM)               (None, 50)                20200     \n",
            "                                                                 \n",
            " dense_1 (Dense)             (None, 1)                 51        \n",
            "                                                                 \n",
            "=================================================================\n",
            "Total params: 50,851\n",
            "Trainable params: 50,851\n",
            "Non-trainable params: 0\n",
            "_________________________________________________________________\n"
          ]
        }
      ]
    },
    {
      "cell_type": "code",
      "source": [
        "model.fit(x_train, y_train, validation_data = (x_test, y_test), epochs = 100, batch_size = 64, verbose = 1)\n"
      ],
      "metadata": {
        "colab": {
          "base_uri": "https://localhost:8080/"
        },
        "id": "hnaGhvxvFgw3",
        "outputId": "3be96f17-6aad-4493-8a35-ac470b295ff5"
      },
      "execution_count": 106,
      "outputs": [
        {
          "output_type": "stream",
          "name": "stdout",
          "text": [
            "Epoch 1/100\n",
            "21/21 [==============================] - 13s 369ms/step - loss: 0.0494 - val_loss: 0.0421\n",
            "Epoch 2/100\n",
            "21/21 [==============================] - 5s 245ms/step - loss: 0.0411 - val_loss: 0.0406\n",
            "Epoch 3/100\n",
            "21/21 [==============================] - 6s 311ms/step - loss: 0.0407 - val_loss: 0.0409\n",
            "Epoch 4/100\n",
            "21/21 [==============================] - 5s 246ms/step - loss: 0.0406 - val_loss: 0.0406\n",
            "Epoch 5/100\n",
            "21/21 [==============================] - 6s 311ms/step - loss: 0.0406 - val_loss: 0.0406\n",
            "Epoch 6/100\n",
            "21/21 [==============================] - 5s 250ms/step - loss: 0.0406 - val_loss: 0.0407\n",
            "Epoch 7/100\n",
            "21/21 [==============================] - 6s 286ms/step - loss: 0.0406 - val_loss: 0.0407\n",
            "Epoch 8/100\n",
            "21/21 [==============================] - 5s 259ms/step - loss: 0.0407 - val_loss: 0.0405\n",
            "Epoch 9/100\n",
            "21/21 [==============================] - 5s 247ms/step - loss: 0.0410 - val_loss: 0.0412\n",
            "Epoch 10/100\n",
            "21/21 [==============================] - 6s 307ms/step - loss: 0.0407 - val_loss: 0.0412\n",
            "Epoch 11/100\n",
            "21/21 [==============================] - 5s 248ms/step - loss: 0.0406 - val_loss: 0.0403\n",
            "Epoch 12/100\n",
            "21/21 [==============================] - 6s 311ms/step - loss: 0.0407 - val_loss: 0.0406\n",
            "Epoch 13/100\n",
            "21/21 [==============================] - 5s 249ms/step - loss: 0.0405 - val_loss: 0.0403\n",
            "Epoch 14/100\n",
            "21/21 [==============================] - 6s 303ms/step - loss: 0.0404 - val_loss: 0.0415\n",
            "Epoch 15/100\n",
            "21/21 [==============================] - 5s 251ms/step - loss: 0.0418 - val_loss: 0.0412\n",
            "Epoch 16/100\n",
            "21/21 [==============================] - 6s 272ms/step - loss: 0.0410 - val_loss: 0.0405\n",
            "Epoch 17/100\n",
            "21/21 [==============================] - 6s 277ms/step - loss: 0.0405 - val_loss: 0.0405\n",
            "Epoch 18/100\n",
            "21/21 [==============================] - 5s 250ms/step - loss: 0.0404 - val_loss: 0.0405\n",
            "Epoch 19/100\n",
            "21/21 [==============================] - 6s 311ms/step - loss: 0.0405 - val_loss: 0.0403\n",
            "Epoch 20/100\n",
            "21/21 [==============================] - 5s 253ms/step - loss: 0.0409 - val_loss: 0.0404\n",
            "Epoch 21/100\n",
            "21/21 [==============================] - 6s 311ms/step - loss: 0.0407 - val_loss: 0.0403\n",
            "Epoch 22/100\n",
            "21/21 [==============================] - 5s 247ms/step - loss: 0.0404 - val_loss: 0.0403\n",
            "Epoch 23/100\n",
            "21/21 [==============================] - 6s 297ms/step - loss: 0.0406 - val_loss: 0.0403\n",
            "Epoch 24/100\n",
            "21/21 [==============================] - 5s 249ms/step - loss: 0.0406 - val_loss: 0.0422\n",
            "Epoch 25/100\n",
            "21/21 [==============================] - 5s 262ms/step - loss: 0.0408 - val_loss: 0.0405\n",
            "Epoch 26/100\n",
            "21/21 [==============================] - 6s 295ms/step - loss: 0.0407 - val_loss: 0.0409\n",
            "Epoch 27/100\n",
            "21/21 [==============================] - 5s 249ms/step - loss: 0.0404 - val_loss: 0.0407\n",
            "Epoch 28/100\n",
            "21/21 [==============================] - 6s 312ms/step - loss: 0.0408 - val_loss: 0.0403\n",
            "Epoch 29/100\n",
            "21/21 [==============================] - 5s 249ms/step - loss: 0.0403 - val_loss: 0.0417\n",
            "Epoch 30/100\n",
            "21/21 [==============================] - 6s 308ms/step - loss: 0.0410 - val_loss: 0.0403\n",
            "Epoch 31/100\n",
            "21/21 [==============================] - 5s 249ms/step - loss: 0.0404 - val_loss: 0.0403\n",
            "Epoch 32/100\n",
            "21/21 [==============================] - 7s 318ms/step - loss: 0.0404 - val_loss: 0.0403\n",
            "Epoch 33/100\n",
            "21/21 [==============================] - 5s 247ms/step - loss: 0.0406 - val_loss: 0.0403\n",
            "Epoch 34/100\n",
            "21/21 [==============================] - 6s 311ms/step - loss: 0.0404 - val_loss: 0.0403\n",
            "Epoch 35/100\n",
            "21/21 [==============================] - 5s 246ms/step - loss: 0.0406 - val_loss: 0.0403\n",
            "Epoch 36/100\n",
            "21/21 [==============================] - 5s 254ms/step - loss: 0.0406 - val_loss: 0.0404\n",
            "Epoch 37/100\n",
            "21/21 [==============================] - 6s 299ms/step - loss: 0.0404 - val_loss: 0.0408\n",
            "Epoch 38/100\n",
            "21/21 [==============================] - 5s 247ms/step - loss: 0.0409 - val_loss: 0.0406\n",
            "Epoch 39/100\n",
            "21/21 [==============================] - 6s 310ms/step - loss: 0.0404 - val_loss: 0.0403\n",
            "Epoch 40/100\n",
            "21/21 [==============================] - 5s 250ms/step - loss: 0.0404 - val_loss: 0.0403\n",
            "Epoch 41/100\n",
            "21/21 [==============================] - 6s 310ms/step - loss: 0.0403 - val_loss: 0.0407\n",
            "Epoch 42/100\n",
            "21/21 [==============================] - 5s 249ms/step - loss: 0.0406 - val_loss: 0.0405\n",
            "Epoch 43/100\n",
            "21/21 [==============================] - 6s 278ms/step - loss: 0.0405 - val_loss: 0.0408\n",
            "Epoch 44/100\n",
            "21/21 [==============================] - 6s 268ms/step - loss: 0.0408 - val_loss: 0.0404\n",
            "Epoch 45/100\n",
            "21/21 [==============================] - 5s 248ms/step - loss: 0.0408 - val_loss: 0.0407\n",
            "Epoch 46/100\n",
            "21/21 [==============================] - 6s 312ms/step - loss: 0.0404 - val_loss: 0.0405\n",
            "Epoch 47/100\n",
            "21/21 [==============================] - 5s 252ms/step - loss: 0.0406 - val_loss: 0.0405\n",
            "Epoch 48/100\n",
            "21/21 [==============================] - 6s 311ms/step - loss: 0.0404 - val_loss: 0.0403\n",
            "Epoch 49/100\n",
            "21/21 [==============================] - 5s 249ms/step - loss: 0.0406 - val_loss: 0.0403\n",
            "Epoch 50/100\n",
            "21/21 [==============================] - 6s 302ms/step - loss: 0.0405 - val_loss: 0.0405\n",
            "Epoch 51/100\n",
            "21/21 [==============================] - 5s 250ms/step - loss: 0.0403 - val_loss: 0.0404\n",
            "Epoch 52/100\n",
            "21/21 [==============================] - 6s 314ms/step - loss: 0.0405 - val_loss: 0.0404\n",
            "Epoch 53/100\n",
            "21/21 [==============================] - 5s 253ms/step - loss: 0.0404 - val_loss: 0.0404\n",
            "Epoch 54/100\n",
            "21/21 [==============================] - 7s 318ms/step - loss: 0.0405 - val_loss: 0.0404\n",
            "Epoch 55/100\n",
            "21/21 [==============================] - 5s 251ms/step - loss: 0.0404 - val_loss: 0.0403\n",
            "Epoch 56/100\n",
            "21/21 [==============================] - 7s 315ms/step - loss: 0.0405 - val_loss: 0.0403\n",
            "Epoch 57/100\n",
            "21/21 [==============================] - 5s 253ms/step - loss: 0.0403 - val_loss: 0.0402\n",
            "Epoch 58/100\n",
            "21/21 [==============================] - 5s 252ms/step - loss: 0.0403 - val_loss: 0.0404\n",
            "Epoch 59/100\n",
            "21/21 [==============================] - 6s 300ms/step - loss: 0.0404 - val_loss: 0.0403\n",
            "Epoch 60/100\n",
            "21/21 [==============================] - 5s 259ms/step - loss: 0.0403 - val_loss: 0.0402\n",
            "Epoch 61/100\n",
            "21/21 [==============================] - 6s 311ms/step - loss: 0.0403 - val_loss: 0.0402\n",
            "Epoch 62/100\n",
            "21/21 [==============================] - 5s 252ms/step - loss: 0.0404 - val_loss: 0.0402\n",
            "Epoch 63/100\n",
            "21/21 [==============================] - 6s 309ms/step - loss: 0.0404 - val_loss: 0.0408\n",
            "Epoch 64/100\n",
            "21/21 [==============================] - 5s 249ms/step - loss: 0.0406 - val_loss: 0.0402\n",
            "Epoch 65/100\n",
            "21/21 [==============================] - 6s 285ms/step - loss: 0.0404 - val_loss: 0.0405\n",
            "Epoch 66/100\n",
            "21/21 [==============================] - 5s 256ms/step - loss: 0.0404 - val_loss: 0.0402\n",
            "Epoch 67/100\n",
            "21/21 [==============================] - 5s 247ms/step - loss: 0.0403 - val_loss: 0.0402\n",
            "Epoch 68/100\n",
            "21/21 [==============================] - 6s 306ms/step - loss: 0.0403 - val_loss: 0.0404\n",
            "Epoch 69/100\n",
            "21/21 [==============================] - 5s 251ms/step - loss: 0.0404 - val_loss: 0.0402\n",
            "Epoch 70/100\n",
            "21/21 [==============================] - 6s 312ms/step - loss: 0.0403 - val_loss: 0.0404\n",
            "Epoch 71/100\n",
            "21/21 [==============================] - 5s 251ms/step - loss: 0.0407 - val_loss: 0.0403\n",
            "Epoch 72/100\n",
            "21/21 [==============================] - 6s 306ms/step - loss: 0.0402 - val_loss: 0.0404\n",
            "Epoch 73/100\n",
            "21/21 [==============================] - 5s 250ms/step - loss: 0.0403 - val_loss: 0.0402\n",
            "Epoch 74/100\n",
            "21/21 [==============================] - 6s 271ms/step - loss: 0.0403 - val_loss: 0.0402\n",
            "Epoch 75/100\n",
            "21/21 [==============================] - 6s 273ms/step - loss: 0.0404 - val_loss: 0.0402\n",
            "Epoch 76/100\n",
            "21/21 [==============================] - 5s 249ms/step - loss: 0.0404 - val_loss: 0.0401\n",
            "Epoch 77/100\n",
            "21/21 [==============================] - 6s 315ms/step - loss: 0.0406 - val_loss: 0.0401\n",
            "Epoch 78/100\n",
            "21/21 [==============================] - 5s 253ms/step - loss: 0.0402 - val_loss: 0.0402\n",
            "Epoch 79/100\n",
            "21/21 [==============================] - 6s 312ms/step - loss: 0.0402 - val_loss: 0.0401\n",
            "Epoch 80/100\n",
            "21/21 [==============================] - 5s 253ms/step - loss: 0.0402 - val_loss: 0.0401\n",
            "Epoch 81/100\n",
            "21/21 [==============================] - 6s 307ms/step - loss: 0.0402 - val_loss: 0.0402\n",
            "Epoch 82/100\n",
            "21/21 [==============================] - 5s 249ms/step - loss: 0.0402 - val_loss: 0.0402\n",
            "Epoch 83/100\n",
            "21/21 [==============================] - 6s 272ms/step - loss: 0.0403 - val_loss: 0.0401\n",
            "Epoch 84/100\n",
            "21/21 [==============================] - 6s 281ms/step - loss: 0.0403 - val_loss: 0.0402\n",
            "Epoch 85/100\n",
            "21/21 [==============================] - 5s 252ms/step - loss: 0.0402 - val_loss: 0.0403\n",
            "Epoch 86/100\n",
            "21/21 [==============================] - 7s 317ms/step - loss: 0.0404 - val_loss: 0.0401\n",
            "Epoch 87/100\n",
            "21/21 [==============================] - 5s 252ms/step - loss: 0.0402 - val_loss: 0.0402\n",
            "Epoch 88/100\n",
            "21/21 [==============================] - 6s 314ms/step - loss: 0.0403 - val_loss: 0.0402\n",
            "Epoch 89/100\n",
            "21/21 [==============================] - 5s 252ms/step - loss: 0.0403 - val_loss: 0.0401\n",
            "Epoch 90/100\n",
            "21/21 [==============================] - 6s 307ms/step - loss: 0.0402 - val_loss: 0.0402\n",
            "Epoch 91/100\n",
            "21/21 [==============================] - 5s 248ms/step - loss: 0.0403 - val_loss: 0.0402\n",
            "Epoch 92/100\n",
            "21/21 [==============================] - 6s 269ms/step - loss: 0.0403 - val_loss: 0.0402\n",
            "Epoch 93/100\n",
            "21/21 [==============================] - 6s 289ms/step - loss: 0.0402 - val_loss: 0.0403\n",
            "Epoch 94/100\n",
            "21/21 [==============================] - 5s 251ms/step - loss: 0.0402 - val_loss: 0.0401\n",
            "Epoch 95/100\n",
            "21/21 [==============================] - 7s 317ms/step - loss: 0.0404 - val_loss: 0.0405\n",
            "Epoch 96/100\n",
            "21/21 [==============================] - 5s 250ms/step - loss: 0.0403 - val_loss: 0.0402\n",
            "Epoch 97/100\n",
            "21/21 [==============================] - 6s 312ms/step - loss: 0.0404 - val_loss: 0.0404\n",
            "Epoch 98/100\n",
            "21/21 [==============================] - 5s 255ms/step - loss: 0.0405 - val_loss: 0.0401\n",
            "Epoch 99/100\n",
            "21/21 [==============================] - 6s 309ms/step - loss: 0.0402 - val_loss: 0.0402\n",
            "Epoch 100/100\n",
            "21/21 [==============================] - 5s 251ms/step - loss: 0.0401 - val_loss: 0.0404\n"
          ]
        },
        {
          "output_type": "execute_result",
          "data": {
            "text/plain": [
              "<keras.callbacks.History at 0x7f7482008220>"
            ]
          },
          "metadata": {},
          "execution_count": 106
        }
      ]
    },
    {
      "cell_type": "code",
      "source": [
        "#predicting\n",
        "train_predict = model.predict(x_train)\n",
        "test_predict = model.predict(x_test)"
      ],
      "metadata": {
        "colab": {
          "base_uri": "https://localhost:8080/"
        },
        "id": "74JtWkW1Fgzx",
        "outputId": "eefeb6d3-870a-484c-d94a-89eb925ccc7d"
      },
      "execution_count": 107,
      "outputs": [
        {
          "output_type": "stream",
          "name": "stdout",
          "text": [
            "42/42 [==============================] - 3s 42ms/step\n",
            "42/42 [==============================] - 2s 51ms/step\n"
          ]
        }
      ]
    },
    {
      "cell_type": "code",
      "source": [
        "train_predict"
      ],
      "metadata": {
        "colab": {
          "base_uri": "https://localhost:8080/"
        },
        "id": "x2uVK3VVFg1_",
        "outputId": "08f9c82d-8819-406b-9a50-08095d04d5a0"
      },
      "execution_count": 108,
      "outputs": [
        {
          "output_type": "execute_result",
          "data": {
            "text/plain": [
              "array([[0.2645404 ],\n",
              "       [0.26484284],\n",
              "       [0.26508006],\n",
              "       ...,\n",
              "       [0.2497968 ],\n",
              "       [0.2529946 ],\n",
              "       [0.25513357]], dtype=float32)"
            ]
          },
          "metadata": {},
          "execution_count": 108
        }
      ]
    },
    {
      "cell_type": "code",
      "source": [
        "test_predict"
      ],
      "metadata": {
        "colab": {
          "base_uri": "https://localhost:8080/"
        },
        "id": "K-M4xubNFg4p",
        "outputId": "38b16577-b168-4772-f158-c838b6d61c0e"
      },
      "execution_count": 109,
      "outputs": [
        {
          "output_type": "execute_result",
          "data": {
            "text/plain": [
              "array([[0.2645404 ],\n",
              "       [0.26484284],\n",
              "       [0.26508006],\n",
              "       ...,\n",
              "       [0.2497968 ],\n",
              "       [0.2529946 ],\n",
              "       [0.25513357]], dtype=float32)"
            ]
          },
          "metadata": {},
          "execution_count": 109
        }
      ]
    },
    {
      "cell_type": "code",
      "source": [
        "math.sqrt(mean_squared_error(y_test, test_predict))"
      ],
      "metadata": {
        "colab": {
          "base_uri": "https://localhost:8080/"
        },
        "id": "heWLiPQVFg6u",
        "outputId": "c7ec0399-5557-419d-d8b3-bb3bcd3cde8f"
      },
      "execution_count": 110,
      "outputs": [
        {
          "output_type": "execute_result",
          "data": {
            "text/plain": [
              "0.2009947277254055"
            ]
          },
          "metadata": {},
          "execution_count": 110
        }
      ]
    },
    {
      "cell_type": "code",
      "source": [
        "math.sqrt(mean_squared_error(y_train, train_predict))"
      ],
      "metadata": {
        "colab": {
          "base_uri": "https://localhost:8080/"
        },
        "id": "cVNc5tdIFg9J",
        "outputId": "f68896c4-8bb4-490d-9ab0-6f18d291cf03"
      },
      "execution_count": 111,
      "outputs": [
        {
          "output_type": "execute_result",
          "data": {
            "text/plain": [
              "0.2009947277254055"
            ]
          },
          "metadata": {},
          "execution_count": 111
        }
      ]
    }
  ]
}